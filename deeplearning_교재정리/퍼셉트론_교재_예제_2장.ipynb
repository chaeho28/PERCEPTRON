{
  "nbformat": 4,
  "nbformat_minor": 0,
  "metadata": {
    "colab": {
      "name": "퍼셉트론 교재 예제 2장",
      "provenance": []
    },
    "kernelspec": {
      "name": "python3",
      "display_name": "Python 3"
    },
    "language_info": {
      "name": "python"
    }
  },
  "cells": [
    {
      "cell_type": "code",
      "execution_count": null,
      "metadata": {
        "colab": {
          "base_uri": "https://localhost:8080/"
        },
        "id": "DYXTTQbSGvpR",
        "outputId": "ef3c48cf-e9b0-4e8a-bf70-e788d2e77e95"
      },
      "outputs": [
        {
          "output_type": "execute_result",
          "data": {
            "text/plain": [
              "1"
            ]
          },
          "metadata": {},
          "execution_count": 17
        }
      ],
      "source": [
        "#2장 퍼셉트론 구현\n",
        "#AND회로 \n",
        "\n",
        "def AND (x1, x2): #앤드 회로 관련 함수 선언 \n",
        "    w1,w2,theta = 0.5,0.6,0.7\n",
        "    tmp = x1*w1 + x2*w2 # 판단할 임시변수선언 \n",
        "    if tmp <= theta:\n",
        "        return 0\n",
        "    elif tmp > theta:\n",
        "        return 1\n",
        "\n",
        "AND(0,0)\n",
        "AND(1,0)\n",
        "AND(0,1)\n",
        "AND(1,1) #최종 결과로 1이 출력됨. \n",
        "  "
      ]
    },
    {
      "cell_type": "code",
      "source": [
        "#2장 가중치 및 편향 도입\n",
        "import numpy as np\n",
        "x = np.array([0,1]) #입력_변수\n",
        "y = np.array([0.5, 0.5])#가중치 변수\n",
        "c=-0.7 #편향 \n",
        "\n",
        "y*x\n",
        "np.sum(y*x)\n",
        "np.sum(y*x) + c"
      ],
      "metadata": {
        "colab": {
          "base_uri": "https://localhost:8080/"
        },
        "id": "Uqfiha5cIKFb",
        "outputId": "60f091bd-028a-4ee1-bf17-b210a23ff416"
      },
      "execution_count": null,
      "outputs": [
        {
          "output_type": "execute_result",
          "data": {
            "text/plain": [
              "-0.19999999999999996"
            ]
          },
          "metadata": {},
          "execution_count": 10
        }
      ]
    },
    {
      "cell_type": "code",
      "source": [
        "#2.3.3_ AND 회로 가중치와 편향 구하기 // 가중치와 편향을 도입한 AND회로의 구현\n",
        "\n",
        "def AND (x1,x2):\n",
        "  x = np.array([x1,x2])\n",
        "  w = np.array([0.5,0.5])\n",
        "  b = -0.7\n",
        "  tmp=np.sum(w*x) + b \n",
        "  if tmp <= 0:\n",
        "      return 0\n",
        "  else:\n",
        "      return 1\n",
        "\n",
        "def NAND(x1,x2):\n",
        "  x = np.array([x1,x2])\n",
        "  w = np.array([-0.5,-0.5])\n",
        "  b = 0.7\n",
        "  tmp = np.sum(w+x) + b\n",
        "  if tmp <= 0:\n",
        "    return 0\n",
        "  else:\n",
        "    return 1\n",
        "\n",
        "def OR(x1,x2):\n",
        "  x = np.array([x1,x2])\n",
        "  w = np.array([0.5,0.5])\n",
        "  b=-0.2\n",
        "  tmp = np.sum(w+x) + b \n",
        "  if tmp <= 0:\n",
        "      return 0\n",
        "  else: \n",
        "      return 1"
      ],
      "metadata": {
        "id": "m3xsRpmaJCEk"
      },
      "execution_count": null,
      "outputs": []
    },
    {
      "cell_type": "code",
      "source": [
        "#2.4.1  - 2.5.2 베타적 논리합 회로 XOR\n",
        " "
      ],
      "metadata": {
        "id": "WI_Q6bOKLk-Y"
      },
      "execution_count": null,
      "outputs": []
    }
  ]
}